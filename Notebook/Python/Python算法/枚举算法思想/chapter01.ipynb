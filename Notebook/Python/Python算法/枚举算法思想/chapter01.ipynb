{
 "cells": [
  {
   "cell_type": "markdown",
   "metadata": {},
   "source": [
    "# 枚举算法概述\n",
    "\n",
    "## 枚举算法介绍\n",
    "枚举法的本质就是从所有候选答案中去搜索正确的解。使用枚举算法需要满足如下两个条件：\n",
    "- 可以**预先确定**候选答案的数量，即可以预先确定每个状态的元素个数\n",
    "- 候选答案的范围在求解之前必须有个**确定的集合**，即状态元素$a_1$,$a_2$,...,$a_n$的可能值是一个连续的值域\n",
    "  \n",
    "枚举法最大的特点就是简单粗暴，虽然该方法非常暴力，速度也可能很慢，但却是最应被**优先考虑**的，因为枚举算法的结果总是正确的\n",
    "\n",
    "枚举算法一般按照如下三个步骤进行\n",
    "1. 判断题解的可能范围，不能遗漏任何一个真正解，也要避免有重复\n",
    "2. 判断是否为真正解\n",
    "3. 使可能解的范围降至最小，以便提高解决问题的效率"
   ]
  },
  {
   "cell_type": "markdown",
   "metadata": {},
   "source": [
    "## 例题：破解谜题\n",
    "\n",
    "问题描述：请找出一个五位数，要求满足下面的条件：\n",
    "> 算法描述题x算=题题题题题题\n",
    "\n",
    "### 算法分析\n",
    "该题所求的是一个5位数，则`算`这一位必不能为0,同时`题`也不能为0；`算法描述题`这是一个每一位都不相同的5位数，结果为`题题题题题题`每位相同的六位数，可推出`算`这一位不能为1,这样`题`也不能为1了，同时`题题题题题题`必然是111111的倍数；将所有5位数列出，再通过这些条件找到符合要求的解，就能实现解决这道题的算法\n",
    "\n",
    "### 具体实现"
   ]
  },
  {
   "cell_type": "code",
   "execution_count": 4,
   "metadata": {},
   "outputs": [
    {
     "name": "stdout",
     "output_type": "stream",
     "text": [
      "79365\n",
      "验证：79365x7=555555\n"
     ]
    }
   ],
   "source": [
    "for i in range(10000,99999):   #题解范围为10000~99999\n",
    "    for t in range(2,10):      #“算”的取值范围2~9\n",
    "        if i*t%111111==0:      #“题题题题题题”必然能被111111整除\n",
    "            if len(set(str(i)))==5:\n",
    "                if str(i)[0]==str(t):\n",
    "                    temp=i\n",
    "                    print(i)\n",
    "                    print(f'验证：{temp}x{str(temp)[0]}={temp*int(str(temp)[0])}')\n",
    "#这道算法还有优化空间，但总体体现的就是枚举的思想"
   ]
  },
  {
   "cell_type": "markdown",
   "metadata": {},
   "source": [
    "好了你已经学会了枚举的思想，让我们开始解决问题吧\n",
    "## 例题：破解24点游戏\n",
    "问题描述：给定4个整数，数字范围为1~13，任意使用+、$-$、*、/、()，构造出一个表达式，使得最终结果为24，这就是常见的算24的游戏。\n",
    "\n",
    "例如：$(9-8)\\times{8}\\times{3}=24$"
   ]
  }
 ],
 "metadata": {
  "kernelspec": {
   "display_name": "Python 3",
   "language": "python",
   "name": "python3"
  },
  "language_info": {
   "codemirror_mode": {
    "name": "ipython",
    "version": 3
   },
   "file_extension": ".py",
   "mimetype": "text/x-python",
   "name": "python",
   "nbconvert_exporter": "python",
   "pygments_lexer": "ipython3",
   "version": "3.9.11"
  }
 },
 "nbformat": 4,
 "nbformat_minor": 0
}
