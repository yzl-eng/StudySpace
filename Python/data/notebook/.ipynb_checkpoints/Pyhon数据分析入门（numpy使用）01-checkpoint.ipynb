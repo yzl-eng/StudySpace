{
 "cells": [
  {
   "cell_type": "markdown",
   "id": "484aca1e",
   "metadata": {},
   "source": [
    "**简介**：该笔记主要记录利用python做数据分析的相关知识\n",
    "                                                                                                     auther：LZY\n",
    "\n",
    "# NumPy库入门\n",
    "\n",
    " **简介：**NumPy(Numerical Python) 是 Python 语言的一个扩展程序库，支持大量的维度数组与矩阵运算，此外也针对数组运算提供大量的数学函数库。\n",
    "\n",
    "\n",
    "NumPy 是一个运行速度非常快的数学库，主要用于数组计算，包含：\n",
    "- 一个强大的N维数组对象 ndarray\n",
    "- 广播功能函数\n",
    "- 整合 C/C++/Fortran 代码的工具\n",
    "- 线性代数、傅里叶变换、随机数生成等功能\n",
    "\n",
    "\n",
    "## NumPy数组对象：ndarray\n"
   ]
  },
  {
   "cell_type": "markdown",
   "id": "977b00b7",
   "metadata": {},
   "source": [
    "NumPy 最重要的一个特点是其 N 维数组对象 ndarray，它是一系列同类型数据的集合，以 0 下标为开始进行集合中元素的索引。\n",
    "\n",
    "ndarray 对象是用于存放同类型元素的多维数组。\n",
    "\n",
    "ndarray 中的每个元素在内存中都有相同存储大小的区域。\n",
    "\n",
    "ndarray 内部由以下内容组成：\n",
    "\n",
    "- 一个指向数据（内存或内存映射文件中的一块数据）的指针。\n",
    "- 数据类型或 dtype，描述在数组中的固定大小值的格子。\n",
    "- 一个表示数组形状（shape）的元组，表示各维度大小的元组。\n",
    "- 一个跨度元组（stride），其中的整数指的是为了前进到当前维度下一个元素需要\"跨过\"的字节数。"
   ]
  },
  {
   "cell_type": "markdown",
   "id": "fdfd517e",
   "metadata": {},
   "source": [
    "**将numpy包别名np导入**"
   ]
  },
  {
   "cell_type": "code",
   "execution_count": 1,
   "id": "01de48da",
   "metadata": {
    "ExecuteTime": {
     "end_time": "2022-04-01T08:56:24.982137Z",
     "start_time": "2022-04-01T08:56:24.859219Z"
    }
   },
   "outputs": [],
   "source": [
    "import numpy as np"
   ]
  },
  {
   "cell_type": "markdown",
   "id": "2107402e",
   "metadata": {},
   "source": [
    "### 创建ndarray数组\n",
    ">numpy.array(object, dtype = None, copy = True, order = None, subok = False, ndmin = 0)\n",
    "\n",
    "- **object**\t数组或嵌套的数列\n",
    "- **dtype**\t   数组元素的数据类型，可选\n",
    "- **copy**    对象是否需要复制，可选\n",
    "- **order**\t   创建数组的样式，C为行方向，F为列方向，A为任意方向（默认）\n",
    "- **subok**默认返回一个与基类类型一致的数组\n",
    "- **ndmin**   指定生成数组的最小维度"
   ]
  },
  {
   "cell_type": "code",
   "execution_count": 4,
   "id": "5073da4c",
   "metadata": {
    "ExecuteTime": {
     "end_time": "2022-04-01T08:58:49.022625Z",
     "start_time": "2022-04-01T08:58:49.007665Z"
    }
   },
   "outputs": [],
   "source": [
    "a=np.array([1,2,3,4])"
   ]
  },
  {
   "cell_type": "code",
   "execution_count": 3,
   "id": "84d70741",
   "metadata": {
    "ExecuteTime": {
     "end_time": "2022-04-01T08:56:25.013198Z",
     "start_time": "2022-04-01T08:56:24.998218Z"
    },
    "scrolled": true
   },
   "outputs": [
    {
     "name": "stdout",
     "output_type": "stream",
     "text": [
      "[1 2 3 4]\n"
     ]
    }
   ],
   "source": [
    "print(a)"
   ]
  },
  {
   "cell_type": "markdown",
   "id": "bb7ab22c",
   "metadata": {},
   "source": [
    "### dtype类型：\n",
    "| 名称       | 描述                                                         |\n",
    "| :--------- | :----------------------------------------------------------- |\n",
    "| bool_      | 布尔型数据类型（True 或者 False）                            |\n",
    "| int_       | 默认的整数类型（类似于 C 语言中的 long，int32 或 int64）     |\n",
    "| intc       | 与 C 的 int 类型一样，一般是 int32 或 int 64                 |\n",
    "| intp       | 用于索引的整数类型（类似于 C 的 ssize_t，一般情况下仍然是 int32 或 int64） |\n",
    "| int8       | 字节（-128 to 127）                                          |\n",
    "| int16      | 整数（-32768 to 32767）                                      |\n",
    "| int32      | 整数（-2147483648 to 2147483647）                            |\n",
    "| int64      | 整数（-9223372036854775808 to 9223372036854775807）          |\n",
    "| uint8      | 无符号整数（0 to 255）                                       |\n",
    "| uint16     | 无符号整数（0 to 65535）                                     |\n",
    "| uint32     | 无符号整数（0 to 4294967295）                                |\n",
    "| uint64     | 无符号整数（0 to 18446744073709551615）                      |\n",
    "| float_     | float64 类型的简写                                           |\n",
    "| float16    | 半精度浮点数，包括：1 个符号位，5 个指数位，10 个尾数位      |\n",
    "| float32    | 单精度浮点数，包括：1 个符号位，8 个指数位，23 个尾数位      |\n",
    "| float64    | 双精度浮点数，包括：1 个符号位，11 个指数位，52 个尾数位     |\n",
    "| complex_   | complex128 类型的简写，即 128 位复数                         |\n",
    "| complex64  | 复数，表示双 32 位浮点数（实数部分和虚数部分）               |\n",
    "| complex128 | 复数，表示双 64 位浮点数（实数部分和虚数部分）               |\n"
   ]
  },
  {
   "cell_type": "markdown",
   "id": "bfc0adfa",
   "metadata": {},
   "source": []
  }
 ],
 "metadata": {
  "kernelspec": {
   "display_name": "Python 3 (ipykernel)",
   "language": "python",
   "name": "python3"
  },
  "language_info": {
   "codemirror_mode": {
    "name": "ipython",
    "version": 3
   },
   "file_extension": ".py",
   "mimetype": "text/x-python",
   "name": "python",
   "nbconvert_exporter": "python",
   "pygments_lexer": "ipython3",
   "version": "3.9.11"
  },
  "toc": {
   "base_numbering": 1,
   "nav_menu": {},
   "number_sections": true,
   "sideBar": true,
   "skip_h1_title": false,
   "title_cell": "Table of Contents",
   "title_sidebar": "Contents",
   "toc_cell": false,
   "toc_position": {},
   "toc_section_display": true,
   "toc_window_display": false
  }
 },
 "nbformat": 4,
 "nbformat_minor": 5
}
